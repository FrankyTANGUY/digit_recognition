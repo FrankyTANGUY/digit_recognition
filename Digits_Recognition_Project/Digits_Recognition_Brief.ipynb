{
 "cells": [
  {
   "cell_type": "markdown",
   "id": "f56abef3",
   "metadata": {},
   "source": [
    "# Reconnaissance des Digits basée sur les enregistrements Audios "
   ]
  },
  {
   "cell_type": "markdown",
   "id": "8131e9cf",
   "metadata": {},
   "source": [
    "### Importer les bibliothéques necessaires "
   ]
  },
  {
   "cell_type": "code",
   "execution_count": 123,
   "id": "874ae24f",
   "metadata": {},
   "outputs": [],
   "source": [
    "import numpy as np\n",
    "import os\n",
    "import matplotlib.pyplot as plt\n",
    "import seaborn as sb\n",
    "sb.set_style(\"whitegrid\", {'axes.grid' : False})\n",
    "sb.set(font_scale = 2)\n",
    "import pandas as pd\n",
    "from sklearn.model_selection import train_test_split\n",
    "from sklearn.preprocessing import StandardScaler\n",
    "from sklearn.tree import DecisionTreeClassifier\n",
    "from sklearn.ensemble import RandomForestClassifier\n",
    "from sklearn.ensemble import GradientBoostingClassifier\n",
    "from sklearn.svm import SVC\n",
    "from sklearn.neural_network import MLPClassifier\n",
    "from Tools.tools import rec\n",
    "from Tools.tools import collection \n",
    "import warnings\n",
    "warnings.filterwarnings('ignore')"
   ]
  },
  {
   "cell_type": "markdown",
   "id": "3cee3c95",
   "metadata": {},
   "source": [
    "### Collection "
   ]
  },
  {
   "cell_type": "code",
   "execution_count": 124,
   "id": "ddbcd43e",
   "metadata": {},
   "outputs": [],
   "source": [
    "# collection()"
   ]
  },
  {
   "cell_type": "markdown",
   "id": "070d287d",
   "metadata": {},
   "source": [
    "#### 1. Importer votre DataSet"
   ]
  },
  {
   "cell_type": "code",
   "execution_count": 125,
   "id": "92c0fbc3",
   "metadata": {},
   "outputs": [],
   "source": [
    "mydata = pd.read_csv('./DataSet/'+os.listdir('./DataSet/')[0])"
   ]
  },
  {
   "cell_type": "markdown",
   "id": "4462f6d4",
   "metadata": {},
   "source": [
    "##### Print"
   ]
  },
  {
   "cell_type": "code",
   "execution_count": 126,
   "id": "9298dc51",
   "metadata": {},
   "outputs": [
    {
     "data": {
      "text/html": [
       "<div>\n",
       "<style scoped>\n",
       "    .dataframe tbody tr th:only-of-type {\n",
       "        vertical-align: middle;\n",
       "    }\n",
       "\n",
       "    .dataframe tbody tr th {\n",
       "        vertical-align: top;\n",
       "    }\n",
       "\n",
       "    .dataframe thead th {\n",
       "        text-align: right;\n",
       "    }\n",
       "</style>\n",
       "<table border=\"1\" class=\"dataframe\">\n",
       "  <thead>\n",
       "    <tr style=\"text-align: right;\">\n",
       "      <th></th>\n",
       "      <th>Fe1</th>\n",
       "      <th>Fe2</th>\n",
       "      <th>Fe3</th>\n",
       "      <th>Fe4</th>\n",
       "      <th>Fe5</th>\n",
       "      <th>Fe6</th>\n",
       "      <th>Fe7</th>\n",
       "      <th>Fe8</th>\n",
       "      <th>Fe9</th>\n",
       "      <th>Fe10</th>\n",
       "      <th>Fe11</th>\n",
       "      <th>Fe12</th>\n",
       "      <th>Target</th>\n",
       "    </tr>\n",
       "  </thead>\n",
       "  <tbody>\n",
       "    <tr>\n",
       "      <th>0</th>\n",
       "      <td>13.826166</td>\n",
       "      <td>-12.684228</td>\n",
       "      <td>12.645834</td>\n",
       "      <td>6.938258</td>\n",
       "      <td>1.434168</td>\n",
       "      <td>3.873297</td>\n",
       "      <td>1.214596</td>\n",
       "      <td>2.131574</td>\n",
       "      <td>4.101266</td>\n",
       "      <td>4.977142</td>\n",
       "      <td>2.475803</td>\n",
       "      <td>2.666064</td>\n",
       "      <td>0.0</td>\n",
       "    </tr>\n",
       "    <tr>\n",
       "      <th>1</th>\n",
       "      <td>14.423011</td>\n",
       "      <td>-13.687151</td>\n",
       "      <td>13.637553</td>\n",
       "      <td>2.500229</td>\n",
       "      <td>1.570457</td>\n",
       "      <td>3.071398</td>\n",
       "      <td>3.836199</td>\n",
       "      <td>4.864888</td>\n",
       "      <td>5.841415</td>\n",
       "      <td>6.643054</td>\n",
       "      <td>2.968906</td>\n",
       "      <td>1.927965</td>\n",
       "      <td>1.0</td>\n",
       "    </tr>\n",
       "    <tr>\n",
       "      <th>2</th>\n",
       "      <td>12.969076</td>\n",
       "      <td>-9.292158</td>\n",
       "      <td>13.908437</td>\n",
       "      <td>5.476703</td>\n",
       "      <td>4.484677</td>\n",
       "      <td>8.820590</td>\n",
       "      <td>8.712636</td>\n",
       "      <td>4.343233</td>\n",
       "      <td>2.952837</td>\n",
       "      <td>3.957840</td>\n",
       "      <td>1.200703</td>\n",
       "      <td>0.791016</td>\n",
       "      <td>2.0</td>\n",
       "    </tr>\n",
       "    <tr>\n",
       "      <th>3</th>\n",
       "      <td>12.585090</td>\n",
       "      <td>-11.316209</td>\n",
       "      <td>12.984019</td>\n",
       "      <td>4.367402</td>\n",
       "      <td>0.768229</td>\n",
       "      <td>0.558766</td>\n",
       "      <td>-0.600545</td>\n",
       "      <td>2.950509</td>\n",
       "      <td>3.842734</td>\n",
       "      <td>8.261035</td>\n",
       "      <td>3.326267</td>\n",
       "      <td>1.615859</td>\n",
       "      <td>3.0</td>\n",
       "    </tr>\n",
       "    <tr>\n",
       "      <th>4</th>\n",
       "      <td>13.630192</td>\n",
       "      <td>-13.826125</td>\n",
       "      <td>10.865906</td>\n",
       "      <td>1.812815</td>\n",
       "      <td>1.525143</td>\n",
       "      <td>5.304581</td>\n",
       "      <td>3.593793</td>\n",
       "      <td>4.086091</td>\n",
       "      <td>3.027385</td>\n",
       "      <td>4.901214</td>\n",
       "      <td>4.030547</td>\n",
       "      <td>3.319416</td>\n",
       "      <td>4.0</td>\n",
       "    </tr>\n",
       "    <tr>\n",
       "      <th>5</th>\n",
       "      <td>15.263614</td>\n",
       "      <td>-18.490760</td>\n",
       "      <td>7.125853</td>\n",
       "      <td>3.445330</td>\n",
       "      <td>-1.260309</td>\n",
       "      <td>4.997331</td>\n",
       "      <td>4.064654</td>\n",
       "      <td>3.001202</td>\n",
       "      <td>3.631085</td>\n",
       "      <td>5.674426</td>\n",
       "      <td>4.059043</td>\n",
       "      <td>1.290322</td>\n",
       "      <td>5.0</td>\n",
       "    </tr>\n",
       "    <tr>\n",
       "      <th>6</th>\n",
       "      <td>16.368568</td>\n",
       "      <td>-20.258037</td>\n",
       "      <td>4.861707</td>\n",
       "      <td>12.059828</td>\n",
       "      <td>-3.057030</td>\n",
       "      <td>2.082351</td>\n",
       "      <td>8.191053</td>\n",
       "      <td>4.652822</td>\n",
       "      <td>1.248023</td>\n",
       "      <td>5.294618</td>\n",
       "      <td>3.988588</td>\n",
       "      <td>0.432981</td>\n",
       "      <td>6.0</td>\n",
       "    </tr>\n",
       "    <tr>\n",
       "      <th>7</th>\n",
       "      <td>14.530073</td>\n",
       "      <td>-16.321594</td>\n",
       "      <td>9.120055</td>\n",
       "      <td>4.538796</td>\n",
       "      <td>-1.492503</td>\n",
       "      <td>4.744734</td>\n",
       "      <td>4.865404</td>\n",
       "      <td>1.646004</td>\n",
       "      <td>1.718095</td>\n",
       "      <td>3.987022</td>\n",
       "      <td>2.968077</td>\n",
       "      <td>2.558176</td>\n",
       "      <td>7.0</td>\n",
       "    </tr>\n",
       "    <tr>\n",
       "      <th>8</th>\n",
       "      <td>14.925852</td>\n",
       "      <td>-13.806911</td>\n",
       "      <td>11.038254</td>\n",
       "      <td>4.622788</td>\n",
       "      <td>2.752395</td>\n",
       "      <td>6.956544</td>\n",
       "      <td>4.885531</td>\n",
       "      <td>2.292389</td>\n",
       "      <td>2.405471</td>\n",
       "      <td>3.449352</td>\n",
       "      <td>4.409858</td>\n",
       "      <td>1.829354</td>\n",
       "      <td>8.0</td>\n",
       "    </tr>\n",
       "    <tr>\n",
       "      <th>9</th>\n",
       "      <td>15.152976</td>\n",
       "      <td>-13.615659</td>\n",
       "      <td>11.378413</td>\n",
       "      <td>2.599742</td>\n",
       "      <td>3.342093</td>\n",
       "      <td>8.825043</td>\n",
       "      <td>4.248628</td>\n",
       "      <td>5.147598</td>\n",
       "      <td>3.890636</td>\n",
       "      <td>4.679820</td>\n",
       "      <td>2.849187</td>\n",
       "      <td>2.540623</td>\n",
       "      <td>9.0</td>\n",
       "    </tr>\n",
       "    <tr>\n",
       "      <th>10</th>\n",
       "      <td>15.098530</td>\n",
       "      <td>-11.507163</td>\n",
       "      <td>13.705507</td>\n",
       "      <td>10.321562</td>\n",
       "      <td>3.934787</td>\n",
       "      <td>7.147460</td>\n",
       "      <td>4.745711</td>\n",
       "      <td>2.369887</td>\n",
       "      <td>4.099004</td>\n",
       "      <td>4.799894</td>\n",
       "      <td>2.071392</td>\n",
       "      <td>4.402949</td>\n",
       "      <td>0.0</td>\n",
       "    </tr>\n",
       "    <tr>\n",
       "      <th>11</th>\n",
       "      <td>15.023401</td>\n",
       "      <td>-14.417400</td>\n",
       "      <td>12.896135</td>\n",
       "      <td>0.480390</td>\n",
       "      <td>-0.023162</td>\n",
       "      <td>3.765075</td>\n",
       "      <td>4.799359</td>\n",
       "      <td>5.154042</td>\n",
       "      <td>8.045745</td>\n",
       "      <td>7.910128</td>\n",
       "      <td>2.489299</td>\n",
       "      <td>4.333862</td>\n",
       "      <td>1.0</td>\n",
       "    </tr>\n",
       "    <tr>\n",
       "      <th>12</th>\n",
       "      <td>13.523111</td>\n",
       "      <td>-13.170745</td>\n",
       "      <td>13.892804</td>\n",
       "      <td>3.977633</td>\n",
       "      <td>4.032249</td>\n",
       "      <td>6.846749</td>\n",
       "      <td>7.016208</td>\n",
       "      <td>4.535367</td>\n",
       "      <td>5.593774</td>\n",
       "      <td>3.502512</td>\n",
       "      <td>0.099194</td>\n",
       "      <td>0.800197</td>\n",
       "      <td>2.0</td>\n",
       "    </tr>\n",
       "    <tr>\n",
       "      <th>13</th>\n",
       "      <td>13.889616</td>\n",
       "      <td>-11.417724</td>\n",
       "      <td>14.293092</td>\n",
       "      <td>5.806481</td>\n",
       "      <td>2.397876</td>\n",
       "      <td>1.489611</td>\n",
       "      <td>0.969539</td>\n",
       "      <td>2.583865</td>\n",
       "      <td>5.151342</td>\n",
       "      <td>7.406788</td>\n",
       "      <td>3.244506</td>\n",
       "      <td>2.181189</td>\n",
       "      <td>3.0</td>\n",
       "    </tr>\n",
       "    <tr>\n",
       "      <th>14</th>\n",
       "      <td>12.972523</td>\n",
       "      <td>-16.330342</td>\n",
       "      <td>8.650692</td>\n",
       "      <td>0.643503</td>\n",
       "      <td>-0.524787</td>\n",
       "      <td>5.619735</td>\n",
       "      <td>5.034367</td>\n",
       "      <td>5.197724</td>\n",
       "      <td>5.149362</td>\n",
       "      <td>5.820338</td>\n",
       "      <td>3.360612</td>\n",
       "      <td>4.113967</td>\n",
       "      <td>4.0</td>\n",
       "    </tr>\n",
       "    <tr>\n",
       "      <th>15</th>\n",
       "      <td>14.906662</td>\n",
       "      <td>-18.205732</td>\n",
       "      <td>6.420969</td>\n",
       "      <td>3.277650</td>\n",
       "      <td>-0.211315</td>\n",
       "      <td>4.678604</td>\n",
       "      <td>4.397361</td>\n",
       "      <td>3.611812</td>\n",
       "      <td>2.800106</td>\n",
       "      <td>5.291814</td>\n",
       "      <td>3.953230</td>\n",
       "      <td>1.544408</td>\n",
       "      <td>5.0</td>\n",
       "    </tr>\n",
       "    <tr>\n",
       "      <th>16</th>\n",
       "      <td>16.460920</td>\n",
       "      <td>-21.268050</td>\n",
       "      <td>3.965487</td>\n",
       "      <td>10.892558</td>\n",
       "      <td>-1.813090</td>\n",
       "      <td>2.708009</td>\n",
       "      <td>6.119650</td>\n",
       "      <td>4.693072</td>\n",
       "      <td>1.203776</td>\n",
       "      <td>4.224104</td>\n",
       "      <td>5.680050</td>\n",
       "      <td>1.293159</td>\n",
       "      <td>6.0</td>\n",
       "    </tr>\n",
       "    <tr>\n",
       "      <th>17</th>\n",
       "      <td>14.311419</td>\n",
       "      <td>-18.412593</td>\n",
       "      <td>7.227986</td>\n",
       "      <td>4.514559</td>\n",
       "      <td>-0.985396</td>\n",
       "      <td>4.083456</td>\n",
       "      <td>4.875464</td>\n",
       "      <td>1.914192</td>\n",
       "      <td>0.572941</td>\n",
       "      <td>3.202059</td>\n",
       "      <td>3.043058</td>\n",
       "      <td>2.908747</td>\n",
       "      <td>7.0</td>\n",
       "    </tr>\n",
       "    <tr>\n",
       "      <th>18</th>\n",
       "      <td>14.857550</td>\n",
       "      <td>-14.987916</td>\n",
       "      <td>10.961823</td>\n",
       "      <td>4.571706</td>\n",
       "      <td>4.056797</td>\n",
       "      <td>6.248362</td>\n",
       "      <td>5.208759</td>\n",
       "      <td>2.411922</td>\n",
       "      <td>3.032322</td>\n",
       "      <td>3.714570</td>\n",
       "      <td>3.639056</td>\n",
       "      <td>1.934738</td>\n",
       "      <td>8.0</td>\n",
       "    </tr>\n",
       "    <tr>\n",
       "      <th>19</th>\n",
       "      <td>15.411715</td>\n",
       "      <td>-16.371159</td>\n",
       "      <td>10.770386</td>\n",
       "      <td>1.736968</td>\n",
       "      <td>2.292037</td>\n",
       "      <td>7.863330</td>\n",
       "      <td>3.892940</td>\n",
       "      <td>4.339698</td>\n",
       "      <td>3.957926</td>\n",
       "      <td>3.875328</td>\n",
       "      <td>2.346946</td>\n",
       "      <td>1.369847</td>\n",
       "      <td>9.0</td>\n",
       "    </tr>\n",
       "  </tbody>\n",
       "</table>\n",
       "</div>"
      ],
      "text/plain": [
       "          Fe1        Fe2        Fe3        Fe4       Fe5       Fe6       Fe7  \\\n",
       "0   13.826166 -12.684228  12.645834   6.938258  1.434168  3.873297  1.214596   \n",
       "1   14.423011 -13.687151  13.637553   2.500229  1.570457  3.071398  3.836199   \n",
       "2   12.969076  -9.292158  13.908437   5.476703  4.484677  8.820590  8.712636   \n",
       "3   12.585090 -11.316209  12.984019   4.367402  0.768229  0.558766 -0.600545   \n",
       "4   13.630192 -13.826125  10.865906   1.812815  1.525143  5.304581  3.593793   \n",
       "5   15.263614 -18.490760   7.125853   3.445330 -1.260309  4.997331  4.064654   \n",
       "6   16.368568 -20.258037   4.861707  12.059828 -3.057030  2.082351  8.191053   \n",
       "7   14.530073 -16.321594   9.120055   4.538796 -1.492503  4.744734  4.865404   \n",
       "8   14.925852 -13.806911  11.038254   4.622788  2.752395  6.956544  4.885531   \n",
       "9   15.152976 -13.615659  11.378413   2.599742  3.342093  8.825043  4.248628   \n",
       "10  15.098530 -11.507163  13.705507  10.321562  3.934787  7.147460  4.745711   \n",
       "11  15.023401 -14.417400  12.896135   0.480390 -0.023162  3.765075  4.799359   \n",
       "12  13.523111 -13.170745  13.892804   3.977633  4.032249  6.846749  7.016208   \n",
       "13  13.889616 -11.417724  14.293092   5.806481  2.397876  1.489611  0.969539   \n",
       "14  12.972523 -16.330342   8.650692   0.643503 -0.524787  5.619735  5.034367   \n",
       "15  14.906662 -18.205732   6.420969   3.277650 -0.211315  4.678604  4.397361   \n",
       "16  16.460920 -21.268050   3.965487  10.892558 -1.813090  2.708009  6.119650   \n",
       "17  14.311419 -18.412593   7.227986   4.514559 -0.985396  4.083456  4.875464   \n",
       "18  14.857550 -14.987916  10.961823   4.571706  4.056797  6.248362  5.208759   \n",
       "19  15.411715 -16.371159  10.770386   1.736968  2.292037  7.863330  3.892940   \n",
       "\n",
       "         Fe8       Fe9      Fe10      Fe11      Fe12  Target  \n",
       "0   2.131574  4.101266  4.977142  2.475803  2.666064     0.0  \n",
       "1   4.864888  5.841415  6.643054  2.968906  1.927965     1.0  \n",
       "2   4.343233  2.952837  3.957840  1.200703  0.791016     2.0  \n",
       "3   2.950509  3.842734  8.261035  3.326267  1.615859     3.0  \n",
       "4   4.086091  3.027385  4.901214  4.030547  3.319416     4.0  \n",
       "5   3.001202  3.631085  5.674426  4.059043  1.290322     5.0  \n",
       "6   4.652822  1.248023  5.294618  3.988588  0.432981     6.0  \n",
       "7   1.646004  1.718095  3.987022  2.968077  2.558176     7.0  \n",
       "8   2.292389  2.405471  3.449352  4.409858  1.829354     8.0  \n",
       "9   5.147598  3.890636  4.679820  2.849187  2.540623     9.0  \n",
       "10  2.369887  4.099004  4.799894  2.071392  4.402949     0.0  \n",
       "11  5.154042  8.045745  7.910128  2.489299  4.333862     1.0  \n",
       "12  4.535367  5.593774  3.502512  0.099194  0.800197     2.0  \n",
       "13  2.583865  5.151342  7.406788  3.244506  2.181189     3.0  \n",
       "14  5.197724  5.149362  5.820338  3.360612  4.113967     4.0  \n",
       "15  3.611812  2.800106  5.291814  3.953230  1.544408     5.0  \n",
       "16  4.693072  1.203776  4.224104  5.680050  1.293159     6.0  \n",
       "17  1.914192  0.572941  3.202059  3.043058  2.908747     7.0  \n",
       "18  2.411922  3.032322  3.714570  3.639056  1.934738     8.0  \n",
       "19  4.339698  3.957926  3.875328  2.346946  1.369847     9.0  "
      ]
     },
     "execution_count": 126,
     "metadata": {},
     "output_type": "execute_result"
    }
   ],
   "source": [
    "mydata.head(20)"
   ]
  },
  {
   "cell_type": "markdown",
   "id": "fb771cf2",
   "metadata": {},
   "source": [
    "#### 2. Checker les variables quantitatives/qualitatives et les valeurs manquantes "
   ]
  },
  {
   "cell_type": "code",
   "execution_count": 127,
   "id": "cc96909d",
   "metadata": {},
   "outputs": [
    {
     "data": {
      "text/plain": [
       "Fe1    Fe2    Fe3    Fe4    Fe5    Fe6    Fe7    Fe8    Fe9    Fe10   Fe11   Fe12   Target\n",
       "False  False  False  False  False  False  False  False  False  False  False  False  False     210\n",
       "dtype: int64"
      ]
     },
     "execution_count": 127,
     "metadata": {},
     "output_type": "execute_result"
    }
   ],
   "source": [
    "mydata.isna().value_counts()"
   ]
  },
  {
   "cell_type": "markdown",
   "id": "a2834974",
   "metadata": {},
   "source": [
    "#### 3. Visualiser les targets"
   ]
  },
  {
   "cell_type": "code",
   "execution_count": 128,
   "id": "aec24861",
   "metadata": {},
   "outputs": [
    {
     "data": {
      "text/plain": [
       "0      0.0\n",
       "1      1.0\n",
       "2      2.0\n",
       "3      3.0\n",
       "4      4.0\n",
       "      ... \n",
       "205    5.0\n",
       "206    6.0\n",
       "207    7.0\n",
       "208    8.0\n",
       "209    9.0\n",
       "Name: Target, Length: 210, dtype: float64"
      ]
     },
     "execution_count": 128,
     "metadata": {},
     "output_type": "execute_result"
    }
   ],
   "source": [
    "mydata.Target"
   ]
  },
  {
   "cell_type": "markdown",
   "id": "85a34150",
   "metadata": {},
   "source": [
    "#### 4. Notre variable target (Y) est 'gender', Récuprer X et y à partir du jeu de données "
   ]
  },
  {
   "cell_type": "code",
   "execution_count": 129,
   "id": "8602c3d6",
   "metadata": {},
   "outputs": [
    {
     "data": {
      "text/plain": [
       "(210, 12)"
      ]
     },
     "execution_count": 129,
     "metadata": {},
     "output_type": "execute_result"
    }
   ],
   "source": [
    "y = mydata['Target']\n",
    "X = mydata.iloc[:,:-1]\n",
    "X.shape"
   ]
  },
  {
   "cell_type": "code",
   "execution_count": null,
   "id": "da75331e",
   "metadata": {},
   "outputs": [],
   "source": []
  },
  {
   "cell_type": "markdown",
   "id": "ae52af1a",
   "metadata": {},
   "source": [
    "#### 5. Diviser la DataSet en donneés d'apprentissage et de test (20% pour le test)"
   ]
  },
  {
   "cell_type": "code",
   "execution_count": 130,
   "id": "cf43c4d3",
   "metadata": {},
   "outputs": [],
   "source": [
    "X_train, X_test, y_train, y_test = train_test_split(X,y, test_size = 0.2, random_state = 0)"
   ]
  },
  {
   "cell_type": "markdown",
   "id": "b333a6bc",
   "metadata": {},
   "source": [
    "#### 6. Appliquer une normalisation centrée-réduite aux données en utilisant \"StandardScaler\""
   ]
  },
  {
   "cell_type": "code",
   "execution_count": 131,
   "id": "4e6cd48f",
   "metadata": {},
   "outputs": [],
   "source": [
    "sc=StandardScaler()\n",
    "X_train_s = sc.fit_transform(X_train)\n",
    "X_test_s = sc.fit_transform(X_test)\n",
    "y_train_s = sc.fit_transform(np.array(y_train).reshape(-1,1))\n",
    "y_test_s=sc.fit_transform(np.array(y_test).reshape(-1,1))"
   ]
  },
  {
   "cell_type": "markdown",
   "id": "f2629c96",
   "metadata": {},
   "source": [
    "#### 7. Développer votre meilleur modèle de classification"
   ]
  },
  {
   "cell_type": "code",
   "execution_count": 132,
   "id": "e1bb4672",
   "metadata": {},
   "outputs": [],
   "source": [
    "from sklearn.model_selection import GridSearchCV\n",
    "from sklearn.pipeline import Pipeline\n",
    "from xgboost import XGBClassifier\n",
    "\n",
    "svc = SVC()\n",
    "dt = DecisionTreeClassifier()\n",
    "rf= RandomForestClassifier()\n",
    "gbc = GradientBoostingClassifier()\n",
    "mlpc= MLPClassifier()\n",
    "xgb = XGBClassifier()\n",
    "\n"
   ]
  },
  {
   "cell_type": "code",
   "execution_count": null,
   "metadata": {},
   "outputs": [
    {
     "name": "stdout",
     "output_type": "stream",
     "text": [
      "0.9163992869875223\n",
      "{'svc__C': 10, 'svc__kernel': 'rbf'}\n",
      "Score sur l'échantillon test 0.8571428571428571\n"
     ]
    }
   ],
   "source": [
    "\n",
    "# pipe = Pipeline([('scaler', StandardScaler()),\n",
    "#                  ('svc', SVC())])\n",
    "\n",
    "\n",
    "pipe = Pipeline([('svc', SVC())])\n",
    "\n",
    "\n",
    "parameters = { 'svc__kernel': ['linear', 'rbf'],\n",
    "               'svc__C':[0.1,1,10,20]}\n",
    "\n",
    "Exp = GridSearchCV(pipe, \n",
    "                   param_grid = parameters, \n",
    "                   cv = 5)\n",
    "\n",
    "Exp.fit(X_train, y_train)\n",
    "print(Exp.best_score_)\n",
    "print(Exp.best_params_)\n",
    "print('Score sur l\\'échantillon test', Exp.score(X_test,y_test))"
   ]
  },
  {
   "cell_type": "code",
   "execution_count": null,
   "metadata": {},
   "outputs": [
    {
     "name": "stdout",
     "output_type": "stream",
     "text": [
      "0.838680926916221\n",
      "{'rf__n_estimators': 200}\n",
      "Score sur l'échantillon test 0.7619047619047619\n"
     ]
    }
   ],
   "source": [
    "\n",
    "pipe = Pipeline([('scaler', StandardScaler()),\n",
    "                 ('rf', RandomForestClassifier())])\n",
    "\n",
    "parameters = { 'rf__n_estimators': [100,150,200,300]\n",
    "               }\n",
    "\n",
    "Exp = GridSearchCV(pipe, \n",
    "                   param_grid = parameters, \n",
    "                   cv = 5)\n",
    "\n",
    "Exp.fit(X_train, y_train)\n",
    "print(Exp.best_score_)\n",
    "print(Exp.best_params_)\n",
    "print('Score sur l\\'échantillon test', Exp.score(X_test,y_test))"
   ]
  },
  {
   "cell_type": "code",
   "execution_count": null,
   "id": "9ed744e9",
   "metadata": {},
   "outputs": [
    {
     "name": "stdout",
     "output_type": "stream",
     "text": [
      "0.6122994652406417\n",
      "{}\n",
      "Score sur l'échantillon test 0.5714285714285714\n"
     ]
    }
   ],
   "source": [
    "pipe = Pipeline([('scaler', StandardScaler()),\n",
    "                 ('dt', DecisionTreeClassifier())])\n",
    "\n",
    "parameters = { \n",
    "               }\n",
    "\n",
    "Exp = GridSearchCV(pipe, \n",
    "                   param_grid = parameters, \n",
    "                   cv = 5)\n",
    "\n",
    "Exp.fit(X_train, y_train)\n",
    "print(Exp.best_score_)\n",
    "print(Exp.best_params_)\n",
    "print('Score sur l\\'échantillon test', Exp.score(X_test,y_test))"
   ]
  },
  {
   "cell_type": "code",
   "execution_count": null,
   "id": "a3f1626f",
   "metadata": {},
   "outputs": [
    {
     "name": "stdout",
     "output_type": "stream",
     "text": [
      "0.8631016042780748\n",
      "{'mlpc__alpha': 0.01, 'mlpc__hidden_layer_sizes': (50, 50, 50, 10)}\n",
      "Score sur l'échantillon test 0.8333333333333334\n"
     ]
    }
   ],
   "source": [
    "pipe = Pipeline([('scaler', StandardScaler()),\n",
    "                 ('mlpc', MLPClassifier())])\n",
    "\n",
    "parameters = {'mlpc__alpha' : [1e-2,1e-1,1,5,8], 'mlpc__hidden_layer_sizes' : [(50,50,50,10)]\n",
    "                }\n",
    "\n",
    "Exp = GridSearchCV(pipe, \n",
    "                   param_grid = parameters, \n",
    "                   cv = 5)\n",
    "\n",
    "Exp.fit(X_train, y_train)\n",
    "print(Exp.best_score_)\n",
    "print(Exp.best_params_)\n",
    "print('Score sur l\\'échantillon test', Exp.score(X_test,y_test))"
   ]
  },
  {
   "cell_type": "code",
   "execution_count": null,
   "id": "071ae289",
   "metadata": {},
   "outputs": [
    {
     "name": "stdout",
     "output_type": "stream",
     "text": [
      "0.6718360071301247\n",
      "{'gbc__n_estimators': 150}\n",
      "Score sur l'échantillon test 0.6428571428571429\n"
     ]
    }
   ],
   "source": [
    "pipe = Pipeline([('scaler', StandardScaler()),\n",
    "                 ('gbc', GradientBoostingClassifier())])\n",
    "\n",
    "parameters = { 'gbc__n_estimators' : [1,10,50,100,150,200]\n",
    "               }\n",
    "\n",
    "Exp = GridSearchCV(pipe, \n",
    "                   param_grid = parameters, \n",
    "                   cv = 5)\n",
    "\n",
    "Exp.fit(X_train, y_train)\n",
    "print(Exp.best_score_)\n",
    "print(Exp.best_params_)\n",
    "print('Score sur l\\'échantillon test', Exp.score(X_test,y_test))"
   ]
  },
  {
   "cell_type": "code",
   "execution_count": null,
   "id": "f7aebcf6",
   "metadata": {},
   "outputs": [
    {
     "name": "stdout",
     "output_type": "stream",
     "text": [
      "0.7253119429590018\n",
      "{'xgb__learning_rate': 0.1, 'xgb__max_depth': 9, 'xgb__n_estimators': 100, 'xgb__verbosity': 0}\n",
      "Score sur l'échantillon test 0.6666666666666666\n"
     ]
    }
   ],
   "source": [
    "pipe = Pipeline([('scaler', StandardScaler()),\n",
    "                 ('xgb', XGBClassifier())])\n",
    "\n",
    "parameters = { 'xgb__max_depth' : [9], 'xgb__learning_rate' : [ 0.1, 0.01, 0.001], 'xgb__n_estimators' : [100],\n",
    "                'xgb__verbosity' : [0]\n",
    "               }\n",
    "\n",
    "Exp = GridSearchCV(pipe, \n",
    "                   param_grid = parameters, \n",
    "                   cv = 5)\n",
    "\n",
    "Exp.fit(X_train, y_train)\n",
    "print(Exp.best_score_)\n",
    "print(Exp.best_params_)\n",
    "print('Score sur l\\'échantillon test', Exp.score(X_test,y_test))"
   ]
  },
  {
   "cell_type": "code",
   "execution_count": null,
   "id": "696b8cb7",
   "metadata": {},
   "outputs": [],
   "source": [
    "import seaborn as sns\n",
    "# sns.pairplot(mydata, hue='Target', corner = True)\n",
    "#feature selection: S.fit(X_train,y_train)\n",
    "# X_train =S.transform(X_train,X_test)"
   ]
  },
  {
   "cell_type": "markdown",
   "id": "ed77bc32",
   "metadata": {},
   "source": [
    "Le meilleur modèle dans notre cas est le SVC. J'ai supprimé le StandardScaler, qui faisait baisser le score.\n",
    "\n",
    "Le score sur l'entrainement ressorti par le gridsearch est le suivant :\n",
    "0.9163992869875223\n",
    "\n",
    "Les paramètres optimaux sont les suivants :\n",
    "{'svc__C': 10, 'svc__kernel': 'rbf'}\n",
    "\n",
    "Score sur l'échantillon test 0.8571428571428571"
   ]
  },
  {
   "cell_type": "markdown",
   "id": "f4ded330",
   "metadata": {},
   "source": [
    "# Application en Temps Réel"
   ]
  },
  {
   "cell_type": "code",
   "execution_count": null,
   "id": "ed0b181b",
   "metadata": {},
   "outputs": [],
   "source": [
    "from Tools.tools import rec\n",
    "from Tools.tools import collection"
   ]
  },
  {
   "cell_type": "code",
   "execution_count": 146,
   "id": "aa20b46c",
   "metadata": {},
   "outputs": [
    {
     "name": "stdout",
     "output_type": "stream",
     "text": [
      "Attention, l'enregistrement commence dans :\n",
      "5\n",
      "4\n",
      "3\n",
      "2\n",
      "1\n",
      "0\n",
      "Prononcer votre Digit : \n",
      "------------------\n",
      "Digit :  2.0\n",
      "------------------\n"
     ]
    }
   ],
   "source": [
    "opti=SVC(C=10, kernel = 'rbf').fit(X_train,y_train)\n",
    "scaler=StandardScaler().fit(X_train,y_train)\n",
    "rec(scaler,opti)"
   ]
  },
  {
   "cell_type": "code",
   "execution_count": 147,
   "id": "e6bb5638",
   "metadata": {},
   "outputs": [
    {
     "data": {
      "text/plain": [
       "['best_classifier']"
      ]
     },
     "execution_count": 147,
     "metadata": {},
     "output_type": "execute_result"
    }
   ],
   "source": [
    "from joblib import dump, load\n",
    "dump(opti,'best_classifier')"
   ]
  },
  {
   "cell_type": "code",
   "execution_count": 148,
   "id": "48fbee00",
   "metadata": {},
   "outputs": [],
   "source": [
    "model=load('best_classifier')"
   ]
  }
 ],
 "metadata": {
  "kernelspec": {
   "display_name": "Python 3 (ipykernel)",
   "language": "python",
   "name": "python3"
  },
  "language_info": {
   "codemirror_mode": {
    "name": "ipython",
    "version": 3
   },
   "file_extension": ".py",
   "mimetype": "text/x-python",
   "name": "python",
   "nbconvert_exporter": "python",
   "pygments_lexer": "ipython3",
   "version": "3.8.3"
  }
 },
 "nbformat": 4,
 "nbformat_minor": 5
}
